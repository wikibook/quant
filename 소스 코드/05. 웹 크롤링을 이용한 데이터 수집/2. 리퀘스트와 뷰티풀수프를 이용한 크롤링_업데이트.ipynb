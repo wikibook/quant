{
 "cells": [
  {
   "cell_type": "markdown",
   "id": "1c742ebd",
   "metadata": {},
   "source": [
    "### requests.get을 이용한 웹 페이지 소스 수집"
   ]
  },
  {
   "cell_type": "code",
   "execution_count": null,
   "id": "2ffa581a",
   "metadata": {},
   "outputs": [],
   "source": [
    "import requests\n",
    "url = \"https://news.daum.net/\" # 2025.10.20 업데이트\n",
    "agent = \"Mozilla/5.0 (Windows NT 10.0; Win64; x64) AppleWebKit/537.36 (KHTML, like Gecko) Chrome/96.0.4664.45 Safari/537.36\"\n",
    "response = requests.get(url = url, headers = {\"User-Agent\":agent})\n",
    "response.encoding = 'utf-8' # 2025.10.20 업데이트"
   ]
  },
  {
   "cell_type": "markdown",
   "id": "f3a2d2cd",
   "metadata": {},
   "source": [
    "#### response 객체"
   ]
  },
  {
   "cell_type": "code",
   "execution_count": null,
   "id": "439176d1",
   "metadata": {
    "scrolled": true
   },
   "outputs": [],
   "source": [
    "print(type(response))"
   ]
  },
  {
   "cell_type": "code",
   "execution_count": null,
   "id": "d24d21a7",
   "metadata": {},
   "outputs": [],
   "source": [
    "print(response.status_code)"
   ]
  },
  {
   "cell_type": "code",
   "execution_count": null,
   "id": "cad4675f",
   "metadata": {},
   "outputs": [],
   "source": [
    "res_text = response.text\n",
    "res_content = response.content\n",
    "\n",
    "print(res_text[:200])\n",
    "print('=' * 200)\n",
    "print(res_content[:200])"
   ]
  },
  {
   "cell_type": "code",
   "execution_count": null,
   "id": "57b74e29",
   "metadata": {},
   "outputs": [],
   "source": [
    "print(type(res_text)) # <class \"str\">\n",
    "print(type(res_content)) # <class \"bytes\">"
   ]
  },
  {
   "cell_type": "markdown",
   "id": "fbd2851b",
   "metadata": {},
   "source": [
    "### BeautifulSoup을 이용한 파싱"
   ]
  },
  {
   "cell_type": "code",
   "execution_count": null,
   "id": "07fca11f",
   "metadata": {},
   "outputs": [],
   "source": [
    "from bs4 import BeautifulSoup as BS"
   ]
  },
  {
   "cell_type": "code",
   "execution_count": null,
   "id": "c3d4ef94",
   "metadata": {},
   "outputs": [],
   "source": [
    "parsed_res_text = BS(res_text)\n",
    "print(type(parsed_res_text))"
   ]
  },
  {
   "cell_type": "markdown",
   "id": "4e6c7a9d",
   "metadata": {},
   "source": [
    "#### find와 find_all 메서드"
   ]
  },
  {
   "cell_type": "code",
   "execution_count": 22,
   "id": "7de9ebb3",
   "metadata": {},
   "outputs": [
    {
     "name": "stdout",
     "output_type": "stream",
     "text": [
      "<ul class=\"list_relate\"> <li><a class=\"link_service\" href=\"https://entertain.daum.net\">연예</a> </li> <li><a class=\"link_service\" href=\"https://sports.daum.net\">스포츠</a> </li> <li><a class=\"link_service\" href=\"https://weather.daum.net\">날씨</a> </li></ul>\n"
     ]
    }
   ],
   "source": [
    "# 첫 번째 ul 태그 찾기\n",
    "print(parsed_res_text.find(\"ul\"))"
   ]
  },
  {
   "cell_type": "code",
   "execution_count": 23,
   "id": "b88343c8",
   "metadata": {},
   "outputs": [
    {
     "name": "stdout",
     "output_type": "stream",
     "text": [
      "<ul class=\"list_newsheadline2\"> <li><a class=\"item_newsheadline2\" data-tiara-layer=\"news\" data-tiara-ordnum=\"1\" data-title=\"%ED%8A%B8%EB%9F%BC%ED%94%84%2C%20%EB%8C%80%EC%A4%91%20%EA%B4%80%EC%84%B8%EC%9D%B8%ED%95%98%20%EA%B1%B0%EB%A1%A0%ED%95%98%EB%A9%B0%20%22%EC%A4%91%EA%B5%AD%EB%8F%84%20%E7%BE%8E%20%EC%9C%84%ED%95%B4%20%EB%AD%94%EA%B0%80%20%ED%95%B4%EC%95%BC%22(%EC%A2%85%ED%95%A9)\" href=\"https://v.daum.net/v/20251020110942034\" rel=\"\" target=\"_self\"><div class=\"wrap_thumb\"> <picture> <source srcset=\"//img1.daumcdn.net/thumb/S686x440a.q80.fwebp/?fname=https%3A%2F%2Ft1.daumcdn.net%2Fnews%2F202510%2F20%2Fyonhap%2F20251020110942813gexc.jpg&amp;scode=media\" type=\"image/webp\"/> <source srcset=\"//img1.daumcdn.net/thumb/S686x440a.q80/?fname=https%3A%2F%2Ft1.daumcdn.net%2Fnews%2F202510%2F20%2Fyonhap%2F20251020110942813gexc.jpg&amp;scode=media\"/> <img alt=\"\" class=\"img_g\" referrerpolicy=\"no-referrer\"/></picture></div> <div class=\"cont_thumb\"><strong class=\"tit_txt\">트럼프, 대중 관세인하 거론하며 \"중국도 美 위해 뭔가 해야\"(종합)</strong> <p class=\"desc_txt\">(워싱턴·서울=연합뉴스) 이유미 특파원 신재우 기자 = 도널드 트럼프 미국 대통령은 19일(현지시간) 중국에 대한 관세 경감을 거론하면서 중국에도 상응하는 조치를 압박했다. 한국 경주에서 열리는 아시아태평양경제협력체(APEC)에서 이뤄질 시진핑 중국 국가주석과의 회담을 앞두고 유리한 고지를 점하기 위한 신경전을 이어가는 것으로 풀이된다. 로이터통신에 따르</p> <span class=\"info_txt\"><span class=\"con_txt\"><span class=\"txt_info\">연합뉴스</span> <span class=\"txt_info\">12분 전</span></span> </span></div> </a> </li> <li><a class=\"item_newsheadline2\" data-tiara-layer=\"news\" data-tiara-ordnum=\"2\" data-title=\"'%EC%BA%84%EB%B3%B4%EB%94%94%EC%95%84%20%EB%B2%94%EC%A3%84'%20%EC%B6%A9%EB%82%A8%C2%B7%EB%8C%80%EC%A0%84%20%ED%94%BC%EC%9D%98%EC%9E%90%2046%EB%AA%85%20%EC%A0%84%EC%9B%90%20%EC%98%A4%EB%8A%98%20%EC%98%81%EC%9E%A5%EC%8B%AC%EC%82%AC\" href=\"https://v.daum.net/v/20251020105512039\" rel=\"\" target=\"_self\"><div class=\"wrap_thumb\"><span class=\"ico_modoo ico_vod3\" data-svelte-h=\"svelte-1jcdy8h\">동영상</span> <picture> <source srcset=\"//img1.daumcdn.net/thumb/S686x440a.q80.fwebp/?fname=https%3A%2F%2Ft1.daumcdn.net%2Fnews%2F202510%2F20%2FYTN%2F20251020105513506twnr.jpg&amp;scode=media\" type=\"image/webp\"/> <source srcset=\"//img1.daumcdn.net/thumb/S686x440a.q80/?fname=https%3A%2F%2Ft1.daumcdn.net%2Fnews%2F202510%2F20%2FYTN%2F20251020105513506twnr.jpg&amp;scode=media\"/> <img alt=\"\" class=\"img_g\" referrerpolicy=\"no-referrer\"/></picture></div> <div class=\"cont_thumb\"><strong class=\"tit_txt\">'캄보디아 범죄' 충남·대전 피의자 46명 전원 오늘 영장심사</strong> <span class=\"info_txt\"><span class=\"con_txt\"><span class=\"txt_info\">YTN</span> <span class=\"txt_info\">27분 전</span></span> </span></div> </a> </li> <li><a class=\"item_newsheadline2\" data-tiara-layer=\"news\" data-tiara-ordnum=\"3\" data-title=\"%ED%8C%90%20%EB%92%A4%EC%A7%91%ED%9E%8C%20%EC%B5%9C-%EB%85%B8%20'%EC%84%B8%EA%B8%B0%EC%9D%98%20%EC%9D%B4%ED%98%BC'%E2%80%A61.4%EC%A1%B0%20%EC%9E%AC%EC%82%B0%EB%B6%84%ED%95%A0%20%ED%96%A5%EB%B0%A9%EC%9D%80\" href=\"https://v.daum.net/v/20251020104947753\" rel=\"\" target=\"_self\"><div class=\"wrap_thumb\"> <picture> <source srcset=\"//img1.daumcdn.net/thumb/S686x440a.q80.fwebp/?fname=https%3A%2F%2Ft1.daumcdn.net%2Fnews%2F202510%2F20%2FBUSINESSWATCH%2F20251020104948331rjzh.jpg&amp;scode=media\" type=\"image/webp\"/> <source srcset=\"//img1.daumcdn.net/thumb/S686x440a.q80/?fname=https%3A%2F%2Ft1.daumcdn.net%2Fnews%2F202510%2F20%2FBUSINESSWATCH%2F20251020104948331rjzh.jpg&amp;scode=media\"/> <img alt=\"\" class=\"img_g\" referrerpolicy=\"no-referrer\"/></picture></div> <div class=\"cont_thumb\"><strong class=\"tit_txt\">판 뒤집힌 최-노 '세기의 이혼'…1.4조 재산분할 향방은</strong> <span class=\"info_txt\"><span class=\"con_txt\"><span class=\"txt_info\">비즈워치</span> <span class=\"txt_info\">32분 전</span></span> </span></div> </a> </li> <li><a class=\"item_newsheadline2\" data-tiara-layer=\"news\" data-tiara-ordnum=\"4\" data-title=\"%EA%B5%AD%EC%A0%95%EC%9E%90%EC%9B%90%20%ED%99%94%EC%9E%AC%E2%80%A6%20%EC%9A%B0%EB%A6%AC%20%EC%A0%95%EB%B6%80%EB%8A%94%20%EC%99%9C%20%EB%AA%A8%EA%B1%B4%EC%8A%A4%ED%83%A0%EB%A6%AC%EC%B2%98%EB%9F%BC%20%EB%AA%BB%20%ED%96%88%EB%82%98%20%5B%EC%B6%94%EC%A0%81%2B%5D\" href=\"https://v.daum.net/v/20251020104049290\" rel=\"\" target=\"_self\"><div class=\"wrap_thumb\"> <picture> <source srcset=\"//img1.daumcdn.net/thumb/S686x440a.q80.fwebp/?fname=https%3A%2F%2Ft1.daumcdn.net%2Fnews%2F202510%2F20%2Fthescoop1%2F20251020104051064tkmt.jpg&amp;scode=media\" type=\"image/webp\"/> <source srcset=\"//img1.daumcdn.net/thumb/S686x440a.q80/?fname=https%3A%2F%2Ft1.daumcdn.net%2Fnews%2F202510%2F20%2Fthescoop1%2F20251020104051064tkmt.jpg&amp;scode=media\"/> <img alt=\"\" class=\"img_g\" referrerpolicy=\"no-referrer\"/></picture></div> <div class=\"cont_thumb\"><strong class=\"tit_txt\">국정자원 화재… 우리 정부는 왜 모건스탠리처럼 못 했나 [추적+]</strong> <span class=\"info_txt\"><span class=\"con_txt\"><span class=\"txt_info\">더스쿠프</span> <span class=\"txt_info\">41분 전</span></span> </span></div> </a> </li> <li><a class=\"item_newsheadline2\" data-tiara-layer=\"news\" data-tiara-ordnum=\"5\" data-title=\"%EA%B3%A0%EB%A0%A4%EC%95%84%EC%97%B0%2C%20%EA%B0%88%EB%A5%A8%20%EC%83%9D%EC%82%B0%20%EB%82%98%EC%84%A0%EB%8B%A4%E2%80%A6'%ED%95%9C%EA%B5%AD%ED%98%95%20%EC%A0%84%EB%9E%B5%EA%B4%91%EB%AC%BC%20%ED%97%88%EB%B8%8C'%20%EA%B0%80%EC%86%8D\" href=\"https://v.daum.net/v/20251020103714098\" rel=\"\" target=\"_self\"><div class=\"wrap_thumb\"> <picture> <source srcset=\"//img1.daumcdn.net/thumb/S686x440a.q80.fwebp/?fname=https%3A%2F%2Ft1.daumcdn.net%2Fnews%2F202510%2F20%2FBUSINESSWATCH%2F20251020103715583xoql.jpg&amp;scode=media\" type=\"image/webp\"/> <source srcset=\"//img1.daumcdn.net/thumb/S686x440a.q80/?fname=https%3A%2F%2Ft1.daumcdn.net%2Fnews%2F202510%2F20%2FBUSINESSWATCH%2F20251020103715583xoql.jpg&amp;scode=media\"/> <img alt=\"\" class=\"img_g\" referrerpolicy=\"no-referrer\"/></picture></div> <div class=\"cont_thumb\"><strong class=\"tit_txt\">고려아연, 갈륨 생산 나선다…'한국형 전략광물 허브' 가속</strong> <span class=\"info_txt\"><span class=\"con_txt\"><span class=\"txt_info\">비즈워치</span> <span class=\"txt_info\">44분 전</span></span> </span></div> </a> </li> <li><a class=\"item_newsheadline2\" data-tiara-layer=\"news\" data-tiara-ordnum=\"6\" data-title=\"%EC%A4%91%EB%8C%80%EB%B3%B8%20%227%EC%A0%84%EC%82%B0%EC%8B%A4%20%EC%8A%A4%ED%86%A0%EB%A6%AC%EC%A7%80%20%EB%B3%B5%EA%B5%AC%E2%80%A6%ED%99%94%EC%9E%A5%EC%9E%A5%20%EC%98%88%EC%95%BD%20%EC%A0%95%EC%83%81%ED%99%94%22(%EC%A2%85%ED%95%A9)\" href=\"https://v.daum.net/v/20251020100015060\" rel=\"\" target=\"_self\"><div class=\"wrap_thumb\"> <picture> <source srcset=\"//img1.daumcdn.net/thumb/S686x440a.q80.fwebp/?fname=https%3A%2F%2Ft1.daumcdn.net%2Fnews%2F202510%2F20%2FNEWS1%2F20251020100017089hjcw.jpg&amp;scode=media\" type=\"image/webp\"/> <source srcset=\"//img1.daumcdn.net/thumb/S686x440a.q80/?fname=https%3A%2F%2Ft1.daumcdn.net%2Fnews%2F202510%2F20%2FNEWS1%2F20251020100017089hjcw.jpg&amp;scode=media\"/> <img alt=\"\" class=\"img_g\" referrerpolicy=\"no-referrer\"/></picture></div> <div class=\"cont_thumb\"><strong class=\"tit_txt\">중대본 \"7전산실 스토리지 복구…화장장 예약 정상화\"(종합)</strong> <span class=\"info_txt\"><span class=\"con_txt\"><span class=\"txt_info\">뉴스1</span> <span class=\"txt_info\">1시간 전</span></span> </span></div> </a> </li> <li><a class=\"item_newsheadline2\" data-tiara-layer=\"news\" data-tiara-ordnum=\"7\" data-title=\"9%EC%9B%94%20%EC%84%9C%EC%9A%B8%20%EC%95%84%ED%8C%8C%ED%8A%B8%20%EC%8B%A0%EA%B3%A0%EA%B0%80%20%EA%B1%B0%EB%9E%98%20%EA%B8%89%EC%A6%9D%E2%80%A6%E2%80%98%EC%B4%88%EA%B0%95%EB%A0%A5%20%EB%8C%80%EC%B1%85%E2%80%99%20%EC%9D%B4%EC%9C%A0%20%EC%9E%88%EC%97%88%EB%8B%A4\" href=\"https://v.daum.net/v/20251020095446796\" rel=\"\" target=\"_self\"><div class=\"wrap_thumb\"> <picture> <source srcset=\"//img1.daumcdn.net/thumb/S686x440a.q80.fwebp/?fname=https%3A%2F%2Ft1.daumcdn.net%2Fnews%2F202510%2F20%2FEdaily%2F20251020095447985hgig.jpg&amp;scode=media\" type=\"image/webp\"/> <source srcset=\"//img1.daumcdn.net/thumb/S686x440a.q80/?fname=https%3A%2F%2Ft1.daumcdn.net%2Fnews%2F202510%2F20%2FEdaily%2F20251020095447985hgig.jpg&amp;scode=media\"/> <img alt=\"\" class=\"img_g\" referrerpolicy=\"no-referrer\"/></picture></div> <div class=\"cont_thumb\"><strong class=\"tit_txt\">9월 서울 아파트 신고가 거래 급증…‘초강력 대책’ 이유 있었다</strong> <span class=\"info_txt\"><span class=\"con_txt\"><span class=\"txt_info\">이데일리</span> <span class=\"txt_info\">1시간 전</span></span> </span></div> </a> </li> <li><a class=\"item_newsheadline2\" data-tiara-layer=\"news\" data-tiara-ordnum=\"8\" data-title=\"%22%EC%9D%8C%EC%8B%9D%EA%B0%92%20%EC%98%AC%EB%A6%AC%EA%B3%A0%20%ED%95%A0%EC%9D%B8%22%E2%80%A6%EB%B0%B0%EB%AF%BC%2C%20'%EA%B0%80%EA%B2%A9%20%EB%B6%80%ED%92%80%EB%A6%AC%EA%B8%B0'%20%EB%85%BC%EB%9E%80%20%EC%97%AC%EC%A0%84(%EC%A2%85%ED%95%A9)\" href=\"https://v.daum.net/v/20251020093817926\" rel=\"\" target=\"_self\"><div class=\"wrap_thumb\"> <picture> <source srcset=\"//img1.daumcdn.net/thumb/S686x440a.q80.fwebp/?fname=https%3A%2F%2Ft1.daumcdn.net%2Fnews%2F202510%2F20%2Fyonhap%2F20251020093817921cbpr.jpg&amp;scode=media\" type=\"image/webp\"/> <source srcset=\"//img1.daumcdn.net/thumb/S686x440a.q80/?fname=https%3A%2F%2Ft1.daumcdn.net%2Fnews%2F202510%2F20%2Fyonhap%2F20251020093817921cbpr.jpg&amp;scode=media\"/> <img alt=\"\" class=\"img_g\" referrerpolicy=\"no-referrer\"/></picture></div> <div class=\"cont_thumb\"><strong class=\"tit_txt\">\"음식값 올리고 할인\"…배민, '가격 부풀리기' 논란 여전(종합)</strong> <span class=\"info_txt\"><span class=\"con_txt\"><span class=\"txt_info\">연합뉴스</span> <span class=\"txt_info\">2시간 전</span></span> </span></div> </a> </li> <li><a class=\"item_newsheadline2\" data-tiara-layer=\"news\" data-tiara-ordnum=\"9\" data-title=\"'SOC%20%EC%97%AD%EB%8C%80%20%EC%B5%9C%EB%8C%80%20%EC%98%88%EC%82%B0'%20%EC%83%9D%EC%83%89%EB%A7%8C%20%EB%83%88%EB%8B%A4%E2%80%A6%20'10%EA%B3%B3%20%EC%A4%91%204%EA%B3%B3'%20%EA%B3%B5%EC%82%AC%20%EB%AF%B8%EC%A7%91%ED%96%89\" href=\"https://v.daum.net/v/20251020082245269\" rel=\"\" target=\"_self\"><div class=\"wrap_thumb\"> <picture> <source srcset=\"//img1.daumcdn.net/thumb/S686x440a.q80.fwebp/?fname=https%3A%2F%2Ft1.daumcdn.net%2Fnews%2F202510%2F20%2Fmoneyweek%2F20251020082547851yndn.jpg&amp;scode=media\" type=\"image/webp\"/> <source srcset=\"//img1.daumcdn.net/thumb/S686x440a.q80/?fname=https%3A%2F%2Ft1.daumcdn.net%2Fnews%2F202510%2F20%2Fmoneyweek%2F20251020082547851yndn.jpg&amp;scode=media\"/> <img alt=\"\" class=\"img_g\" referrerpolicy=\"no-referrer\"/></picture></div> <div class=\"cont_thumb\"><strong class=\"tit_txt\">'SOC 역대 최대 예산' 생색만 냈다… '10곳 중 4곳' 공사 미집행</strong> <span class=\"info_txt\"><span class=\"con_txt\"><span class=\"txt_info\">머니S</span> <span class=\"txt_info\">3시간 전</span></span> </span></div> </a> </li></ul>\n"
     ]
    }
   ],
   "source": [
    "# 두 번째 위치의 ul 태그 찾기\n",
    "print(parsed_res_text.find_all(\"ul\")[1]) # 2025.10.20 업데이트"
   ]
  },
  {
   "cell_type": "code",
   "execution_count": null,
   "id": "8fd00c72",
   "metadata": {},
   "outputs": [],
   "source": [
    "# class 속성이 txt_info인 첫 번째 span 태그 찾기\n",
    "print(parsed_res_text.find(\"span\", attrs = {\"class\":\"txt_info\"})) # 2025.10.20 업데이트"
   ]
  },
  {
   "cell_type": "code",
   "execution_count": null,
   "id": "7365e3c7",
   "metadata": {},
   "outputs": [],
   "source": [
    "# 내용이 '조선일보'인 모든 span 태그 찾기\n",
    "print(parsed_res_text.find_all(\"span\", string = \"조선일보\")) # 2025.10.20 업데이트"
   ]
  },
  {
   "cell_type": "code",
   "execution_count": null,
   "id": "963ba6da",
   "metadata": {},
   "outputs": [],
   "source": [
    "ul_tag = parsed_res_text.find(\"ul\", attrs = {\"class\":\"list_newsheadline2\"})  # 2025.10.20 업데이트\n",
    "print(type(ul_tag))"
   ]
  },
  {
   "cell_type": "code",
   "execution_count": null,
   "id": "146b76e5",
   "metadata": {},
   "outputs": [],
   "source": [
    "li_list = ul_tag.find_all(\"li\")"
   ]
  },
  {
   "cell_type": "code",
   "execution_count": 24,
   "id": "fcf97b07",
   "metadata": {},
   "outputs": [
    {
     "name": "stdout",
     "output_type": "stream",
     "text": [
      "<a class=\"item_newsheadline2\" data-tiara-layer=\"news\" data-tiara-ordnum=\"1\" data-title=\"%ED%8A%B8%EB%9F%BC%ED%94%84%2C%20%EB%8C%80%EC%A4%91%20%EA%B4%80%EC%84%B8%EC%9D%B8%ED%95%98%20%EA%B1%B0%EB%A1%A0%ED%95%98%EB%A9%B0%20%22%EC%A4%91%EA%B5%AD%EB%8F%84%20%E7%BE%8E%20%EC%9C%84%ED%95%B4%20%EB%AD%94%EA%B0%80%20%ED%95%B4%EC%95%BC%22(%EC%A2%85%ED%95%A9)\" href=\"https://v.daum.net/v/20251020110942034\" rel=\"\" target=\"_self\"><div class=\"wrap_thumb\"> <picture> <source srcset=\"//img1.daumcdn.net/thumb/S686x440a.q80.fwebp/?fname=https%3A%2F%2Ft1.daumcdn.net%2Fnews%2F202510%2F20%2Fyonhap%2F20251020110942813gexc.jpg&amp;scode=media\" type=\"image/webp\"/> <source srcset=\"//img1.daumcdn.net/thumb/S686x440a.q80/?fname=https%3A%2F%2Ft1.daumcdn.net%2Fnews%2F202510%2F20%2Fyonhap%2F20251020110942813gexc.jpg&amp;scode=media\"/> <img alt=\"\" class=\"img_g\" referrerpolicy=\"no-referrer\"/></picture></div> <div class=\"cont_thumb\"><strong class=\"tit_txt\">트럼프, 대중 관세인하 거론하며 \"중국도 美 위해 뭔가 해야\"(종합)</strong> <p class=\"desc_txt\">(워싱턴·서울=연합뉴스) 이유미 특파원 신재우 기자 = 도널드 트럼프 미국 대통령은 19일(현지시간) 중국에 대한 관세 경감을 거론하면서 중국에도 상응하는 조치를 압박했다. 한국 경주에서 열리는 아시아태평양경제협력체(APEC)에서 이뤄질 시진핑 중국 국가주석과의 회담을 앞두고 유리한 고지를 점하기 위한 신경전을 이어가는 것으로 풀이된다. 로이터통신에 따르</p> <span class=\"info_txt\"><span class=\"con_txt\"><span class=\"txt_info\">연합뉴스</span> <span class=\"txt_info\">12분 전</span></span> </span></div> </a>\n"
     ]
    }
   ],
   "source": [
    "news_name = li_list[0].find(\"a\", attrs = {\"class\":\"item_newsheadline2\"})  # 2025.10.20 업데이트\n",
    "print(news_name) "
   ]
  },
  {
   "cell_type": "code",
   "execution_count": null,
   "id": "4f311369",
   "metadata": {},
   "outputs": [],
   "source": [
    "press_name = li_list[0].find(\"span\", attrs = {\"class\":\"txt_info\"})  # 2025.10.20 업데이트\n",
    "print(press_name) "
   ]
  },
  {
   "cell_type": "markdown",
   "id": "f1e405fc",
   "metadata": {},
   "source": [
    "#### 속성을 이용한 값 가져오기"
   ]
  },
  {
   "cell_type": "code",
   "execution_count": null,
   "id": "715ed969",
   "metadata": {},
   "outputs": [],
   "source": [
    "print(news_name[\"href\"])"
   ]
  },
  {
   "cell_type": "code",
   "execution_count": null,
   "id": "db603c80",
   "metadata": {},
   "outputs": [],
   "source": [
    "print(news_name.text)"
   ]
  },
  {
   "cell_type": "code",
   "execution_count": null,
   "id": "1786d015",
   "metadata": {},
   "outputs": [],
   "source": [
    "print(press_name.text)"
   ]
  },
  {
   "cell_type": "code",
   "execution_count": null,
   "id": "94a10e95",
   "metadata": {},
   "outputs": [],
   "source": [
    "import pandas as pd \n",
    "# 빈 리스트로 초기화\n",
    "news_name_list = []\n",
    "news_link_list = []\n",
    "press_name_list = []\n",
    "for li in li_list: # li를 li_list를 순회하면서\n",
    "    # class가 link_txt인 a 태그를 news_name_tag에 저장\n",
    "    news_name_tag = li.find(\"a\", attrs = {\"class\":\"item_newsheadline2\"})  # 수정\n",
    "    press_name_tag = li.find(\"span\", attrs = {\"class\":\"txt_info\"})  # 수정\n",
    "\n",
    "    news_name = news_name_tag.text\n",
    "    press_name = press_name_tag.text\n",
    "    news_link = news_name_tag[\"href\"]\n",
    "\n",
    "    news_name_list.append(news_name)\n",
    "    press_name_list.append(press_name)\n",
    "    news_link_list.append(news_link)\n",
    "\n",
    "data = pd.DataFrame({\"뉴스명\":news_name_list, \n",
    "                    \"언론사명\":press_name_list,\n",
    "                    \"뉴스링크\":news_link_list})\n",
    "\n",
    "display(data.head(10)) "
   ]
  }
 ],
 "metadata": {
  "kernelspec": {
   "display_name": "Python 3 (ipykernel)",
   "language": "python",
   "name": "python3"
  },
  "language_info": {
   "codemirror_mode": {
    "name": "ipython",
    "version": 3
   },
   "file_extension": ".py",
   "mimetype": "text/x-python",
   "name": "python",
   "nbconvert_exporter": "python",
   "pygments_lexer": "ipython3",
   "version": "3.13.7"
  }
 },
 "nbformat": 4,
 "nbformat_minor": 5
}
