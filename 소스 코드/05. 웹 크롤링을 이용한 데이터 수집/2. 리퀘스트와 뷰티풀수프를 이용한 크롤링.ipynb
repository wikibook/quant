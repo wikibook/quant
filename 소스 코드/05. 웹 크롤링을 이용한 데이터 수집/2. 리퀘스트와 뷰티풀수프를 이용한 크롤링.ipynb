{
 "cells": [
  {
   "cell_type": "markdown",
   "id": "1c742ebd",
   "metadata": {},
   "source": [
    "### requests.get을 이용한 웹 페이지 소스 수집"
   ]
  },
  {
   "cell_type": "code",
   "execution_count": null,
   "id": "2ffa581a",
   "metadata": {},
   "outputs": [],
   "source": [
    "import requests\n",
    "url = \"https://news.daum.net/\" # 2025.10.20 업데이트\n",
    "agent = \"Mozilla/5.0 (Windows NT 10.0; Win64; x64) AppleWebKit/537.36 (KHTML, like Gecko) Chrome/96.0.4664.45 Safari/537.36\"\n",
    "response = requests.get(url = url, headers = {\"User-Agent\":agent})\n",
    "response.encoding = 'utf-8' # 2025.10.20 업데이트"
   ]
  },
  {
   "cell_type": "markdown",
   "id": "f3a2d2cd",
   "metadata": {},
   "source": [
    "#### response 객체"
   ]
  },
  {
   "cell_type": "code",
   "execution_count": null,
   "id": "439176d1",
   "metadata": {
    "scrolled": true
   },
   "outputs": [],
   "source": [
    "print(type(response))"
   ]
  },
  {
   "cell_type": "code",
   "execution_count": null,
   "id": "d24d21a7",
   "metadata": {},
   "outputs": [],
   "source": [
    "print(response.status_code)"
   ]
  },
  {
   "cell_type": "code",
   "execution_count": null,
   "id": "cad4675f",
   "metadata": {},
   "outputs": [],
   "source": [
    "res_text = response.text\n",
    "res_content = response.content\n",
    "\n",
    "print(res_text[:200])\n",
    "print('=' * 200)\n",
    "print(res_content[:200])"
   ]
  },
  {
   "cell_type": "code",
   "execution_count": null,
   "id": "57b74e29",
   "metadata": {},
   "outputs": [],
   "source": [
    "print(type(res_text)) # <class \"str\">\n",
    "print(type(res_content)) # <class \"bytes\">"
   ]
  },
  {
   "cell_type": "markdown",
   "id": "fbd2851b",
   "metadata": {},
   "source": [
    "### BeautifulSoup을 이용한 파싱"
   ]
  },
  {
   "cell_type": "code",
   "execution_count": null,
   "id": "07fca11f",
   "metadata": {},
   "outputs": [],
   "source": [
    "from bs4 import BeautifulSoup as BS"
   ]
  },
  {
   "cell_type": "code",
   "execution_count": null,
   "id": "c3d4ef94",
   "metadata": {},
   "outputs": [],
   "source": [
    "parsed_res_text = BS(res_text)\n",
    "print(type(parsed_res_text))"
   ]
  },
  {
   "cell_type": "markdown",
   "id": "4e6c7a9d",
   "metadata": {},
   "source": [
    "#### find와 find_all 메서드"
   ]
  },
  {
   "cell_type": "code",
   "execution_count": null,
   "id": "7de9ebb3",
   "metadata": {},
   "outputs": [],
   "source": [
    "# 첫 번째 ul 태그 찾기\n",
    "print(parsed_res_text.find(\"ul\"))"
   ]
  },
  {
   "cell_type": "code",
   "execution_count": null,
   "id": "b88343c8",
   "metadata": {},
   "outputs": [],
   "source": [
    "# 두 번째 위치의 ul 태그 찾기\n",
    "print(parsed_res_text.find_all(\"ul\")[1]) # 2025.10.20 업데이트"
   ]
  },
  {
   "cell_type": "code",
   "execution_count": null,
   "id": "8fd00c72",
   "metadata": {},
   "outputs": [],
   "source": [
    "# class 속성이 txt_info인 첫 번째 span 태그 찾기\n",
    "print(parsed_res_text.find(\"span\", attrs = {\"class\":\"txt_info\"})) # 2025.10.20 업데이트"
   ]
  },
  {
   "cell_type": "code",
   "execution_count": null,
   "id": "7365e3c7",
   "metadata": {},
   "outputs": [],
   "source": [
    "# 내용이 '조선일보'인 모든 span 태그 찾기\n",
    "print(parsed_res_text.find_all(\"span\", string = \"조선일보\")) # 2025.10.20 업데이트"
   ]
  },
  {
   "cell_type": "code",
   "execution_count": null,
   "id": "963ba6da",
   "metadata": {},
   "outputs": [],
   "source": [
    "ul_tag = parsed_res_text.find(\"ul\", attrs = {\"class\":\"list_newsheadline2\"})  # 2025.10.20 업데이트\n",
    "print(type(ul_tag))"
   ]
  },
  {
   "cell_type": "code",
   "execution_count": null,
   "id": "146b76e5",
   "metadata": {},
   "outputs": [],
   "source": [
    "li_list = ul_tag.find_all(\"li\")"
   ]
  },
  {
   "cell_type": "code",
   "execution_count": null,
   "id": "fcf97b07",
   "metadata": {},
   "outputs": [],
   "source": [
    "news_name = li_list[0].find(\"a\", attrs = {\"class\":\"item_newsheadline2\"})  # 2025.10.20 업데이트\n",
    "print(news_name) "
   ]
  },
  {
   "cell_type": "code",
   "execution_count": null,
   "id": "4f311369",
   "metadata": {},
   "outputs": [],
   "source": [
    "press_name = li_list[0].find(\"span\", attrs = {\"class\":\"txt_info\"})  # 2025.10.20 업데이트\n",
    "print(press_name) "
   ]
  },
  {
   "cell_type": "markdown",
   "id": "f1e405fc",
   "metadata": {},
   "source": [
    "#### 속성을 이용한 값 가져오기"
   ]
  },
  {
   "cell_type": "code",
   "execution_count": null,
   "id": "715ed969",
   "metadata": {},
   "outputs": [],
   "source": [
    "print(news_name[\"href\"])"
   ]
  },
  {
   "cell_type": "code",
   "execution_count": null,
   "id": "db603c80",
   "metadata": {},
   "outputs": [],
   "source": [
    "print(news_name.text)"
   ]
  },
  {
   "cell_type": "code",
   "execution_count": null,
   "id": "1786d015",
   "metadata": {},
   "outputs": [],
   "source": [
    "print(press_name.text)"
   ]
  },
  {
   "cell_type": "code",
   "execution_count": null,
   "id": "94a10e95",
   "metadata": {},
   "outputs": [],
   "source": [
    "import pandas as pd \n",
    "# 빈 리스트로 초기화\n",
    "news_name_list = []\n",
    "news_link_list = []\n",
    "press_name_list = []\n",
    "for li in li_list: # li를 li_list를 순회하면서\n",
    "    # class가 link_txt인 a 태그를 news_name_tag에 저장\n",
    "    news_name_tag = li.find(\"a\", attrs = {\"class\":\"item_newsheadline2\"})  # 2025.10.20 업데이트\n",
    "    press_name_tag = li.find(\"span\", attrs = {\"class\":\"txt_info\"})  # 2025.10.20 업데이트\n",
    "\n",
    "    news_name = news_name_tag.text\n",
    "    press_name = press_name_tag.text\n",
    "    news_link = news_name_tag[\"href\"]\n",
    "\n",
    "    news_name_list.append(news_name)\n",
    "    press_name_list.append(press_name)\n",
    "    news_link_list.append(news_link)\n",
    "\n",
    "data = pd.DataFrame({\"뉴스명\":news_name_list, \n",
    "                    \"언론사명\":press_name_list,\n",
    "                    \"뉴스링크\":news_link_list})\n",
    "\n",
    "display(data.head(10)) "
   ]
  }
 ],
 "metadata": {
  "kernelspec": {
   "display_name": "Python 3 (ipykernel)",
   "language": "python",
   "name": "python3"
  },
  "language_info": {
   "codemirror_mode": {
    "name": "ipython",
    "version": 3
   },
   "file_extension": ".py",
   "mimetype": "text/x-python",
   "name": "python",
   "nbconvert_exporter": "python",
   "pygments_lexer": "ipython3",
   "version": "3.13.7"
  }
 },
 "nbformat": 4,
 "nbformat_minor": 5
}
